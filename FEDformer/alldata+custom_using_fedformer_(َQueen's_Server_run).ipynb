{
  "cells": [
    {
      "cell_type": "markdown",
      "metadata": {
        "id": "UrnO3EuPSMa2",
        "outputId": "d1875447-49fd-4974-894f-2b8a7eded927"
      },
      "source": [
        "## Utiles"
      ]
    },
    {
      "cell_type": "code",
      "execution_count": null,
      "metadata": {
        "id": "maofAvbuKFd3"
      },
      "outputs": [],
      "source": [
        "# !pip install einops\n",
        "import os\n",
        "import einops"
      ]
    },
    {
      "cell_type": "code",
      "execution_count": null,
      "metadata": {
        "id": "KNEkhna5KFd3",
        "outputId": "fbafaae9-bed9-413c-ca3a-ef3de958cceb"
      },
      "outputs": [
        {
          "name": "stdout",
          "output_type": "stream",
          "text": [
            "Collecting einops\n",
            "  Using cached einops-0.6.1-py3-none-any.whl (42 kB)\n",
            "Installing collected packages: einops\n",
            "Successfully installed einops-0.6.1\n"
          ]
        }
      ],
      "source": [
        "!pip install einops"
      ]
    },
    {
      "cell_type": "code",
      "execution_count": null,
      "metadata": {
        "colab": {
          "base_uri": "https://localhost:8080/"
        },
        "id": "b9CXUFKTRtnh",
        "outputId": "69f97c82-40dc-4af3-d428-ce0aad4572d2"
      },
      "outputs": [
        {
          "name": "stdout",
          "output_type": "stream",
          "text": [
            "Cloning into 'LTSF-Linear'...\n",
            "remote: Enumerating objects: 387, done.\u001b[K\n",
            "remote: Counting objects: 100% (75/75), done.\u001b[K\n",
            "remote: Compressing objects: 100% (44/44), done.\u001b[K\n",
            "remote: Total 387 (delta 36), reused 57 (delta 31), pack-reused 312\u001b[K\n",
            "Receiving objects: 100% (387/387), 5.83 MiB | 2.77 MiB/s, done./s\n",
            "Resolving deltas: 100% (180/180), done.\n"
          ]
        }
      ],
      "source": [
        "!git clone https://github.com/cure-lab/LTSF-Linear"
      ]
    },
    {
      "cell_type": "code",
      "execution_count": null,
      "metadata": {
        "colab": {
          "base_uri": "https://localhost:8080/"
        },
        "id": "SgpqaF9sR3hC",
        "outputId": "61cb2c83-6067-49a8-e9f4-7ff5176d54de"
      },
      "outputs": [
        {
          "name": "stdout",
          "output_type": "stream",
          "text": [
            "fatal: destination path 'ETDataset' already exists and is not an empty directory.\n"
          ]
        }
      ],
      "source": [
        "!git clone https://github.com/zhouhaoyi/ETDataset.git"
      ]
    },
    {
      "cell_type": "code",
      "execution_count": null,
      "metadata": {
        "id": "aqvcspsQKFd4"
      },
      "outputs": [],
      "source": [
        "directory_path = \"/home/jovyan/DA_project/Eman/\"\n",
        "run_path = directory_path + \"LTSF-Linear/FEDformer/run.py\"\n",
        "data_path_ETTm1 = directory_path + \"ETDataset/ETT-small/ETTm1.csv\"\n",
        "data_path_ETTm2 = directory_path + \"ETDataset/ETT-small/ETTm2.csv\"\n",
        "data_path_ETTh1 = directory_path + \"ETDataset/ETT-small/ETTh1.csv\"\n",
        "data_path_ETTh2 = directory_path + \"ETDataset/ETT-small/ETTh2.csv\"\n",
        "data_path_Energy_consumption_Evaluation = directory_path + \"Energy_consumption_Evaluation_.csv\""
      ]
    },
    {
      "cell_type": "markdown",
      "metadata": {
        "id": "OS1sXBBMKFd4"
      },
      "source": [
        "## ETTm1 dataset"
      ]
    },
    {
      "cell_type": "code",
      "execution_count": null,
      "metadata": {
        "id": "nXpj4_PrKFd5"
      },
      "outputs": [],
      "source": [
        "'''\n",
        "The first code is for using GPU on Queens server.\n",
        "'''\n",
        "\n",
        "import torch\n",
        "use_gpu = True\n",
        "use_multi_gpu = False\n",
        "devices = '0,1,2,3'\n",
        "\n",
        "use_gpu = True if torch.cuda.is_available() and use_gpu else False\n",
        "\n",
        "if use_gpu and use_multi_gpu:\n",
        "    devices = devices.replace(' ','')\n",
        "    device_ids = devices.split(',')\n",
        "    device_ids = [int(id_) for id_ in device_ids]\n",
        "    gpu = device_ids[0]\n",
        "\n",
        "\n",
        "if not os.path.exists(f\"{directory_path}logs\"):\n",
        "    os.mkdir(f\"{directory_path}logs\")\n",
        "\n",
        "if not os.path.exists(f\"{directory_path}logs/LongForecasting\"):\n",
        "    os.mkdir(f\"{directory_path}logs/LongForecasting\")\n",
        "\n",
        "pre_lens = [96, 192, 336, 720]\n",
        "\n",
        "for pre_len in pre_lens:\n",
        "\n",
        "    # ETTm1\n",
        "    os.system(f\"python -u {run_path} \\\n",
        "      --is_training 1 \\\n",
        "      --data_path {data_path_ETTm1} \\\n",
        "      --task_id ETTm1 \\\n",
        "      --model FEDformer \\\n",
        "      --data ETTm1 \\\n",
        "      --features M \\\n",
        "      --seq_len 96 \\\n",
        "      --label_len 48 \\\n",
        "      --pred_len {pre_len} \\\n",
        "      --e_layers 2 \\\n",
        "      --d_layers 1 \\\n",
        "      --factor 3 \\\n",
        "      --enc_in 7 \\\n",
        "      --dec_in 7 \\\n",
        "      --c_out 7 \\\n",
        "      --des 'Exp' \\\n",
        "      --d_model 512 \\\n",
        "      --itr 3 > {directory_path}logs/LongForecasting/FEDformer3_ETTm1_{pre_len}.log\")"
      ]
    },
    {
      "cell_type": "markdown",
      "metadata": {
        "id": "rOEvOVFCKFd5"
      },
      "source": [
        "Result:\n",
        "\n",
        "- ETTm1_FEDformer_random_modes64_ETTm1_ftM_sl96_ll48_pl96_dm512_nh8_el2_dl1_df2048_fc3_ebtimeF_dtTrue_Exp_0  mse:0.3631369173526764, mae:0.4126182794570923\n",
        "\n",
        "- ETTm1_FEDformer_random_modes64_ETTm1_ftM_sl96_ll48_pl96_dm512_nh8_el2_dl1_df2048_fc3_ebtimeF_dtTrue_Exp_1  mse:0.3585537374019623, mae:0.4054947793483734\n",
        "\n",
        "- ETTm1_FEDformer_random_modes64_ETTm1_ftM_sl96_ll48_pl96_dm512_nh8_el2_dl1_df2048_fc3_ebtimeF_dtTrue_Exp_2  mse:0.35106319189071655, mae:0.40148892998695374\n",
        "\n",
        "- ETTm1_FEDformer_random_modes64_ETTm1_ftM_sl96_ll48_pl192_dm512_nh8_el2_dl1_df2048_fc3_ebtimeF_dtTrue_Exp_0  mse:0.4005740284919739, mae:0.4294414222240448\n",
        "\n",
        "- ETTm1_FEDformer_random_modes64_ETTm1_ftM_sl96_ll48_pl192_dm512_nh8_el2_dl1_df2048_fc3_ebtimeF_dtTrue_Exp_1  mse:0.3929813504219055, mae:0.42488691210746765\n",
        "\n",
        "- ETTm1_FEDformer_random_modes64_ETTm1_ftM_sl96_ll48_pl192_dm512_nh8_el2_dl1_df2048_fc3_ebtimeF_dtTrue_Exp_2  mse:0.3874485194683075, mae:0.42157670855522156\n",
        "\n",
        "- ETTm1_FEDformer_random_modes64_ETTm1_ftM_sl96_ll48_pl336_dm512_nh8_el2_dl1_df2048_fc3_ebtimeF_dtTrue_Exp_0  mse:0.4405254125595093, mae:0.4559628665447235\n",
        "\n",
        "- ETTm1_FEDformer_random_modes64_ETTm1_ftM_sl96_ll48_pl336_dm512_nh8_el2_dl1_df2048_fc3_ebtimeF_dtTrue_Exp_1  mse:0.4292120337486267, mae:0.4495113492012024\n",
        "\n",
        "- ETTm1_FEDformer_random_modes64_ETTm1_ftM_sl96_ll48_pl336_dm512_nh8_el2_dl1_df2048_fc3_ebtimeF_dtTrue_Exp_2  mse:0.43193379044532776, mae:0.44949105381965637\n",
        "\n",
        "- ETTm1_FEDformer_random_modes64_ETTm1_ftM_sl96_ll48_pl720_dm512_nh8_el2_dl1_df2048_fc3_ebtimeF_dtTrue_Exp_0  mse:0.48704230785369873, mae:0.4781390428543091\n",
        "\n",
        "- ETTm1_FEDformer_random_modes64_ETTm1_ftM_sl96_ll48_pl720_dm512_nh8_el2_dl1_df2048_fc3_ebtimeF_dtTrue_Exp_1  mse:0.4764518141746521, mae:0.4753442704677582\n",
        "\n",
        "- ETTm1_FEDformer_random_modes64_ETTm1_ftM_sl96_ll48_pl720_dm512_nh8_el2_dl1_df2048_fc3_ebtimeF_dtTrue_Exp_2  mse:0.48480647802352905, mae:0.47668904066085815"
      ]
    },
    {
      "cell_type": "markdown",
      "source": [
        "### From the provided observation, it appears that you are using the ETTM1 dataset and a model called FEDformer. Here are some observations based on the results:\n",
        "\n",
        "- The model performance, as measured by the mean squared error (MSE) and mean absolute error (MAE), varies across different experiments. The experiments are denoted by the \"Exp_X\" suffix.\n",
        "\n",
        "- Comparing within the same prediction length (pl) but different experiments, such as pl96 or pl192, there is a downward trend in both MSE and MAE values. This suggests that the model's performance improves as you progress from Exp_0 to Exp_2.\n",
        "\n",
        "- Similarly, within each prediction length, as the pl value increases (e.g., pl96 to pl720), there is a general trend of increasing MSE and MAE values. This implies that predicting longer sequences is more challenging for the model.\n",
        "\n",
        "- Across different prediction lengths, the MSE and MAE values may not always follow a consistent pattern. For example, in some cases, increasing the prediction length leads to higher MSE and MAE, while in others, it results in lower values. This indicates that the impact of prediction length on model performance can vary and may depend on other factors, such as the complexity of the dataset."
      ],
      "metadata": {
        "id": "ihtKGux7KXOX"
      }
    },
    {
      "cell_type": "markdown",
      "metadata": {
        "id": "AWmiEcoAKFd5"
      },
      "source": [
        "## ETTh1 dataset\n"
      ]
    },
    {
      "cell_type": "code",
      "execution_count": null,
      "metadata": {
        "id": "W430ZOCyN2UE"
      },
      "outputs": [],
      "source": [
        "'''\n",
        "The first code is for using GPU on Queens server.\n",
        "'''\n",
        "\n",
        "import torch\n",
        "use_gpu = True\n",
        "use_multi_gpu = False\n",
        "devices = '0,1,2,3'\n",
        "\n",
        "use_gpu = True if torch.cuda.is_available() and use_gpu else False\n",
        "\n",
        "if use_gpu and use_multi_gpu:\n",
        "    devices = devices.replace(' ','')\n",
        "    device_ids = devices.split(',')\n",
        "    device_ids = [int(id_) for id_ in device_ids]\n",
        "    gpu = device_ids[0]\n",
        "\n",
        "if not os.path.exists(f\"{directory_path}logs\"):\n",
        "    os.mkdir(f\"{directory_path}logs\")\n",
        "\n",
        "if not os.path.exists(f\"{directory_path}logs/LongForecasting\"):\n",
        "    os.mkdir(f\"{directory_path}logs/LongForecasting\")\n",
        "\n",
        "\n",
        "pre_lens = [96, 192, 336, 720]\n",
        "\n",
        "for pre_len in pre_lens:\n",
        "\n",
        "     # ETTh1\n",
        "    os.system(f\"python -u {run_path} \\\n",
        "      --is_training 1 \\\n",
        "      --data_path {data_path_ETTh1} \\\n",
        "      --task_id ETTh1 \\\n",
        "      --model FEDformer \\\n",
        "      --data ETTh1 \\\n",
        "      --features M \\\n",
        "      --seq_len 96 \\\n",
        "      --label_len 48 \\\n",
        "      --pred_len {pre_len} \\\n",
        "      --e_layers 2 \\\n",
        "      --d_layers 1 \\\n",
        "      --factor 3 \\\n",
        "      --enc_in 7 \\\n",
        "      --dec_in 7 \\\n",
        "      --c_out 7 \\\n",
        "      --des 'Exp' \\\n",
        "      --d_model 512 \\\n",
        "      --itr 3 > {directory_path}logs/LongForecasting/FEDformer_ETTh1_{pre_len}.log\")"
      ]
    },
    {
      "cell_type": "markdown",
      "metadata": {
        "id": "jkhN03HvKFd6"
      },
      "source": [
        "Result:\n",
        "\n",
        "\n",
        "- ETTh1_FEDformer_random_modes64_ETTh1_ftM_sl96_ll48_pl96_dm512_nh8_el2_dl1_df2048_fc3_ebtimeF_dtTrue_Exp_0  mse:0.3747931718826294, mae:0.4144946336746216\n",
        "\n",
        "- ETTh1_FEDformer_random_modes64_ETTh1_ftM_sl96_ll48_pl96_dm512_nh8_el2_dl1_df2048_fc3_ebtimeF_dtTrue_Exp_1  mse:0.3764078915119171, mae:0.4165363311767578\n",
        "\n",
        "- ETTh1_FEDformer_random_modes64_ETTh1_ftM_sl96_ll48_pl96_dm512_nh8_el2_dl1_df2048_fc3_ebtimeF_dtTrue_Exp_2  mse:0.3775074779987335, mae:0.4158117473125458\n",
        "\n",
        "- ETTh1_FEDformer_random_modes64_ETTh1_ftM_sl96_ll48_pl192_dm512_nh8_el2_dl1_df2048_fc3_ebtimeF_dtTrue_Exp_0  mse:0.4270346164703369, mae:0.4481467008590698\n",
        "\n",
        "- ETTh1_FEDformer_random_modes64_ETTh1_ftM_sl96_ll48_pl192_dm512_nh8_el2_dl1_df2048_fc3_ebtimeF_dtTrue_Exp_1  mse:0.41606733202934265, mae:0.44086897373199463\n",
        "\n",
        "- ETTh1_FEDformer_random_modes64_ETTh1_ftM_sl96_ll48_pl192_dm512_nh8_el2_dl1_df2048_fc3_ebtimeF_dtTrue_Exp_2  mse:0.4237588346004486, mae:0.44555726647377014\n",
        "\n",
        "- ETTh1_FEDformer_random_modes64_ETTh1_ftM_sl96_ll48_pl336_dm512_nh8_el2_dl1_df2048_fc3_ebtimeF_dtTrue_Exp_0  mse:0.45754560828208923, mae:0.46460434794425964\n",
        "\n",
        "- ETTh1_FEDformer_random_modes64_ETTh1_ftM_sl96_ll48_pl336_dm512_nh8_el2_dl1_df2048_fc3_ebtimeF_dtTrue_Exp_1  mse:0.4444010257720947, mae:0.45751944184303284\n",
        "\n",
        "- ETTh1_FEDformer_random_modes64_ETTh1_ftM_sl96_ll48_pl336_dm512_nh8_el2_dl1_df2048_fc3_ebtimeF_dtTrue_Exp_2  mse:0.45002806186676025, mae:0.46224015951156616\n",
        "\n",
        "- ETTh1_FEDformer_random_modes64_ETTh1_ftM_sl96_ll48_pl720_dm512_nh8_el2_dl1_df2048_fc3_ebtimeF_dtTrue_Exp_0  mse:0.4836471974849701, mae:0.4953610897064209\n",
        "\n",
        "- ETTh1_FEDformer_random_modes64_ETTh1_ftM_sl96_ll48_pl720_dm512_nh8_el2_dl1_df2048_fc3_ebtimeF_dtTrue_Exp_1  mse:0.4879387617111206, mae:0.49880722165107727\n",
        "\n",
        "- ETTh1_FEDformer_random_modes64_ETTh1_ftM_sl96_ll48_pl720_dm512_nh8_el2_dl1_df2048_fc3_ebtimeF_dtTrue_Exp_2  mse:0.47396180033683777, mae:0.49147844314575195"
      ]
    },
    {
      "cell_type": "markdown",
      "source": [
        "\n",
        "### Based on the provided observation, it appears that you are using the ETTH1 dataset and the FEDformer model. Here are some observations based on the results:\n",
        "\n",
        "\n",
        "- Within the same prediction length (pl), such as pl96 or pl192, there is relatively little variation in the MSE and MAE values across different experiments. This suggests that the model's performance remains consistent within similar prediction lengths.\n",
        "\n",
        "- Comparing different prediction lengths, there is a general trend of increasing MSE and MAE values as the prediction length increases. This indicates that predicting longer sequences is more challenging for the model.\n",
        "\n",
        "- The differences in MSE and MAE values between experiments within the same prediction length are relatively small, indicating that random initialization or other experimental factors may have a limited impact on the model's performance."
      ],
      "metadata": {
        "id": "EPNVXzZLLKxF"
      }
    },
    {
      "cell_type": "markdown",
      "metadata": {
        "id": "ojw8qgQDKFd6"
      },
      "source": [
        "## ETTm2 dataset"
      ]
    },
    {
      "cell_type": "code",
      "execution_count": null,
      "metadata": {
        "id": "HhhEbjNFKFd6"
      },
      "outputs": [],
      "source": [
        "'''\n",
        "The first code is for using GPU on Queens server.\n",
        "'''\n",
        "\n",
        "import torch\n",
        "use_gpu = True\n",
        "use_multi_gpu = False\n",
        "devices = '0,1,2,3'\n",
        "\n",
        "use_gpu = True if torch.cuda.is_available() and use_gpu else False\n",
        "\n",
        "if use_gpu and use_multi_gpu:\n",
        "    devices = devices.replace(' ','')\n",
        "    device_ids = devices.split(',')\n",
        "    device_ids = [int(id_) for id_ in device_ids]\n",
        "    gpu = device_ids[0]\n",
        "\n",
        "if not os.path.exists(f\"{directory_path}logs\"):\n",
        "    os.mkdir(f\"{directory_path}logs\")\n",
        "\n",
        "if not os.path.exists(f\"{directory_path}logs/LongForecasting\"):\n",
        "    os.mkdir(f\"{directory_path}logs/LongForecasting\")\n",
        "\n",
        "\n",
        "pre_lens = [96, 192, 336, 720]\n",
        "\n",
        "\n",
        "for pre_len in pre_lens:\n",
        "\n",
        "    # ETTm2\n",
        "    os.system(f\"python -u {run_path} \\\n",
        "      --is_training 1 \\\n",
        "      --data_path {data_path_ETTm2} \\\n",
        "      --task_id ETTm2 \\\n",
        "      --model FEDformer \\\n",
        "      --data ETTm2 \\\n",
        "      --features M \\\n",
        "      --seq_len 96 \\\n",
        "      --label_len 48 \\\n",
        "      --pred_len {pre_len} \\\n",
        "      --e_layers 2 \\\n",
        "      --d_layers 1 \\\n",
        "      --factor 3 \\\n",
        "      --enc_in 7 \\\n",
        "      --dec_in 7 \\\n",
        "      --c_out 7 \\\n",
        "      --des 'Exp' \\\n",
        "      --d_model 512 \\\n",
        "      --itr 3 > {directory_path}logs/LongForecasting/FEDformer3_ETTm2_{pre_len}.log\")"
      ]
    },
    {
      "cell_type": "markdown",
      "metadata": {
        "id": "AIV54fBdKFd6"
      },
      "source": [
        "Result:\n",
        "\n",
        "\n",
        "- ETTm2_FEDformer_random_modes64_ETTm2_ftM_sl96_ll48_pl96_dm512_nh8_el2_dl1_df2048_fc3_ebtimeF_dtTrue_Exp_0  mse:0.18939317762851715, mae:0.28283753991127014\n",
        "\n",
        "- ETTm2_FEDformer_random_modes64_ETTm2_ftM_sl96_ll48_pl96_dm512_nh8_el2_dl1_df2048_fc3_ebtimeF_dtTrue_Exp_1  mse:0.18848837912082672, mae:0.28018805384635925\n",
        "\n",
        "- ETTm2_FEDformer_random_modes64_ETTm2_ftM_sl96_ll48_pl96_dm512_nh8_el2_dl1_df2048_fc3_ebtimeF_dtTrue_Exp_2  mse:0.1888304054737091, mae:0.28095731139183044\n",
        "\n",
        "- ETTm2_FEDformer_random_modes64_ETTm2_ftM_sl96_ll48_pl192_dm512_nh8_el2_dl1_df2048_fc3_ebtimeF_dtTrue_Exp_0  mse:0.2554275393486023, mae:0.32382848858833313\n",
        "\n",
        "- ETTm2_FEDformer_random_modes64_ETTm2_ftM_sl96_ll48_pl192_dm512_nh8_el2_dl1_df2048_fc3_ebtimeF_dtTrue_Exp_1  mse:0.2612372040748596, mae:0.3257388770580292\n",
        "\n",
        "- ETTm2_FEDformer_random_modes64_ETTm2_ftM_sl96_ll48_pl192_dm512_nh8_el2_dl1_df2048_fc3_ebtimeF_dtTrue_Exp_2  mse:0.2554391920566559, mae:0.32315993309020996\n",
        "\n",
        "- ETTm2_FEDformer_random_modes64_ETTm2_ftM_sl96_ll48_pl336_dm512_nh8_el2_dl1_df2048_fc3_ebtimeF_dtTrue_Exp_0  mse:0.3268829584121704, mae:0.3649548888206482\n",
        "\n",
        "- ETTm2_FEDformer_random_modes64_ETTm2_ftM_sl96_ll48_pl336_dm512_nh8_el2_dl1_df2048_fc3_ebtimeF_dtTrue_Exp_1  mse:0.327037513256073, mae:0.36395251750946045\n",
        "\n",
        "- ETTm2_FEDformer_random_modes64_ETTm2_ftM_sl96_ll48_pl336_dm512_nh8_el2_dl1_df2048_fc3_ebtimeF_dtTrue_Exp_2  mse:0.3223856985569, mae:0.36288321018218994\n",
        "\n",
        "- ETTm2_FEDformer_random_modes64_ETTm2_ftM_sl96_ll48_pl720_dm512_nh8_el2_dl1_df2048_fc3_ebtimeF_dtTrue_Exp_0  mse:0.4342094957828522, mae:0.4250698387622833\n",
        "\n",
        "- ETTm2_FEDformer_random_modes64_ETTm2_ftM_sl96_ll48_pl720_dm512_nh8_el2_dl1_df2048_fc3_ebtimeF_dtTrue_Exp_1  mse:0.4296240210533142, mae:0.4225206971168518\n",
        "\n",
        "- ETTm2_FEDformer_random_modes64_ETTm2_ftM_sl96_ll48_pl720_dm512_nh8_el2_dl1_df2048_fc3_ebtimeF_dtTrue_Exp_2  mse:0.4211651682853699, mae:0.4190598726272583"
      ]
    },
    {
      "cell_type": "markdown",
      "source": [
        "### Based on the provided observation, it appears that you are using the ETTM2 dataset and the FEDformer model. Here are some observations based on the results:\n",
        "\n",
        "- The model performance, measured by the mean squared error (MSE) and mean absolute error (MAE), varies across different experiments denoted by the \"Exp_X\" suffix.\n",
        "\n",
        "- Within the same prediction length (pl), such as pl96 or pl192, there is some variation in the MSE and MAE values across different experiments. This suggests that the model's performance can differ based on the specific experiment.\n",
        "\n",
        "- Comparing different prediction lengths, there is a general trend of increasing MSE and MAE values as the prediction length increases. This indicates that predicting longer sequences is more challenging for the model, similar to the previous observations.\n",
        "\n",
        "- The differences in MSE and MAE values between experiments within the same prediction length are relatively small, indicating that random initialization or other experimental factors may have a limited impact on the model's performance, similar to the previous observations."
      ],
      "metadata": {
        "id": "4aAC_g6bMSE3"
      }
    },
    {
      "cell_type": "markdown",
      "metadata": {
        "id": "2eA0K-xMKFd6"
      },
      "source": [
        "## ETTh2 dataset"
      ]
    },
    {
      "cell_type": "code",
      "execution_count": null,
      "metadata": {
        "id": "W7STuZcDN3vj"
      },
      "outputs": [],
      "source": [
        "'''\n",
        "The first code is for using GPU on Queens server. The reference is my classmate Heba.\n",
        "'''\n",
        "\n",
        "import torch\n",
        "use_gpu = True\n",
        "use_multi_gpu = False\n",
        "devices = '0,1,2,3'\n",
        "\n",
        "use_gpu = True if torch.cuda.is_available() and use_gpu else False\n",
        "\n",
        "if use_gpu and use_multi_gpu:\n",
        "    devices = devices.replace(' ','')\n",
        "    device_ids = devices.split(',')\n",
        "    device_ids = [int(id_) for id_ in device_ids]\n",
        "    gpu = device_ids[0]\n",
        "\n",
        "if not os.path.exists(f\"{directory_path}logs\"):\n",
        "    os.mkdir(f\"{directory_path}logs\")\n",
        "\n",
        "if not os.path.exists(f\"{directory_path}logs/LongForecasting\"):\n",
        "    os.mkdir(f\"{directory_path}logs/LongForecasting\")\n",
        "\n",
        "\n",
        "pre_lens = [96, 192, 336, 720]\n",
        "\n",
        "\n",
        "for pre_len in pre_lens:\n",
        "\n",
        "        # ETTh2\n",
        "    os.system(f\"python -u {run_path} \\\n",
        "      --is_training 1 \\\n",
        "      --data_path {data_path_ETTh2} \\\n",
        "      --task_id ETTh2 \\\n",
        "      --model FEDformer \\\n",
        "      --data ETTh2 \\\n",
        "      --features M \\\n",
        "      --seq_len 96 \\\n",
        "      --label_len 48 \\\n",
        "      --pred_len {pre_len} \\\n",
        "      --e_layers 2 \\\n",
        "      --d_layers 1 \\\n",
        "      --factor 3 \\\n",
        "      --enc_in 7 \\\n",
        "      --dec_in 7 \\\n",
        "      --c_out 7 \\\n",
        "      --des 'Exp' \\\n",
        "      --d_model 512 \\\n",
        "      --itr 3 > {directory_path}logs/LongForecasting/FEDformer_ETTh2_{pre_len}.log\")"
      ]
    },
    {
      "cell_type": "markdown",
      "metadata": {
        "id": "uWaoUgZHKFd6"
      },
      "source": [
        "Result:\n",
        "\n",
        "- ETTh2_FEDformer_random_modes64_ETTh2_ftM_sl96_ll48_pl96_dm512_nh8_el2_dl1_df2048_fc3_ebtimeF_dtTrue_Exp_0  mse:0.34101277589797974, mae:0.3849116265773773\n",
        "\n",
        "- ETTh2_FEDformer_random_modes64_ETTh2_ftM_sl96_ll48_pl96_dm512_nh8_el2_dl1_df2048_fc3_ebtimeF_dtTrue_Exp_0  mse:0.34101277589797974, mae:0.3849116265773773\n",
        "\n",
        "- ETTh2_FEDformer_random_modes64_ETTh2_ftM_sl96_ll48_pl96_dm512_nh8_el2_dl1_df2048_fc3_ebtimeF_dtTrue_Exp_1  mse:0.3477824628353119, mae:0.3882509171962738\n",
        "\n",
        "- ETTh2_FEDformer_random_modes64_ETTh2_ftM_sl96_ll48_pl96_dm512_nh8_el2_dl1_df2048_fc3_ebtimeF_dtTrue_Exp_2  mse:0.3390079736709595, mae:0.38095319271087646\n",
        "\n",
        "- ETTh2_FEDformer_random_modes64_ETTh2_ftM_sl96_ll48_pl192_dm512_nh8_el2_dl1_df2048_fc3_ebtimeF_dtTrue_Exp_0  mse:0.43316107988357544, mae:0.44087377190589905\n",
        "\n",
        "- ETTh2_FEDformer_random_modes64_ETTh2_ftM_sl96_ll48_pl192_dm512_nh8_el2_dl1_df2048_fc3_ebtimeF_dtTrue_Exp_1  mse:0.42349907755851746, mae:0.43494901061058044\n",
        "\n",
        "- ETTh2_FEDformer_random_modes64_ETTh2_ftM_sl96_ll48_pl192_dm512_nh8_el2_dl1_df2048_fc3_ebtimeF_dtTrue_Exp_2  mse:0.4290641248226166, mae:0.4368624985218048\n",
        "\n",
        "- ETTh2_FEDformer_random_modes64_ETTh2_ftM_sl96_ll48_pl336_dm512_nh8_el2_dl1_df2048_fc3_ebtimeF_dtTrue_Exp_0   mse:0.5036007165908813, mae:0.49486100673675537\n",
        "\n",
        "- ETTh2_FEDformer_random_modes64_ETTh2_ftM_sl96_ll48_pl336_dm512_nh8_el2_dl1_df2048_fc3_ebtimeF_dtTrue_Exp_1  mse:0.502349317073822, mae:0.4915768504142761\n",
        "\n",
        "- ETTh2_FEDformer_random_modes64_ETTh2_ftM_sl96_ll48_pl336_dm512_nh8_el2_dl1_df2048_fc3_ebtimeF_dtTrue_Exp_2  mse:0.4450124502182007, mae:0.46073615550994873\n",
        "\n",
        "- ETTh2_FEDformer_random_modes64_ETTh2_ftM_sl96_ll48_pl720_dm512_nh8_el2_dl1_df2048_fc3_ebtimeF_dtTrue_Exp_0  mse:0.4785602390766144, mae:0.4864749312400818\n",
        "\n",
        "- ETTh2_FEDformer_random_modes64_ETTh2_ftM_sl96_ll48_pl720_dm512_nh8_el2_dl1_df2048_fc3_ebtimeF_dtTrue_Exp_1  mse:0.4476119577884674, mae:0.476388156414032\n",
        "\n",
        "- ETTh2_FEDformer_random_modes64_ETTh2_ftM_sl96_ll48_pl720_dm512_nh8_el2_dl1_df2048_fc3_ebtimeF_dtTrue_Exp_2  mse:0.4551857113838196, mae:0.4754410684108734"
      ]
    },
    {
      "cell_type": "markdown",
      "source": [
        "### Based on the provided observation, it appears that you are using the ETTH2 dataset and the FEDformer model. Here are some observations based on the results:\n",
        "\n",
        "\n",
        "- Within the same prediction length (pl), such as pl96 or pl192, there is some variation in the MSE and MAE values across different experiments. This indicates that the model's performance can differ based on the specific experiment.\n",
        "\n",
        "- Comparing different prediction lengths, there is a general trend of increasing MSE and MAE values as the prediction length increases. This suggests that predicting longer sequences is more challenging for the model, similar to the previous observation.\n",
        "\n",
        "- The differences in MSE and MAE values between experiments within the same prediction length are relatively small, indicating that random initialization or other experimental factors may have a limited impact on the model's performance, similar to the previous observation."
      ],
      "metadata": {
        "id": "nSSho5sZLlQ7"
      }
    },
    {
      "cell_type": "markdown",
      "metadata": {
        "id": "PbZzSzcKKFd6"
      },
      "source": [
        "## Custom dataset"
      ]
    },
    {
      "cell_type": "code",
      "execution_count": null,
      "metadata": {
        "id": "cbPK-Ti8KFd6"
      },
      "outputs": [],
      "source": [
        "'''\n",
        "The first code is for using GPU on Queens server. The reference is my classmate Heba.\n",
        "'''\n",
        "\n",
        "import torch\n",
        "use_gpu = True\n",
        "use_multi_gpu = False\n",
        "devices = '0,1,2,3'\n",
        "\n",
        "use_gpu = True if torch.cuda.is_available() and use_gpu else False\n",
        "\n",
        "if use_gpu and use_multi_gpu:\n",
        "    devices = devices.replace(' ','')\n",
        "    device_ids = devices.split(',')\n",
        "    device_ids = [int(id_) for id_ in device_ids]\n",
        "    gpu = device_ids[0]\n",
        "\n",
        "if not os.path.exists(f\"{directory_path}logs\"):\n",
        "    os.mkdir(f\"{directory_path}logs\")\n",
        "\n",
        "if not os.path.exists(f\"{directory_path}logs/LongForecasting\"):\n",
        "    os.mkdir(f\"{directory_path}logs/LongForecasting\")\n",
        "\n",
        "\n",
        "pre_lens = [96, 192, 336, 720]\n",
        "\n",
        "\n",
        "for pre_len in pre_lens:\n",
        "\n",
        "     # Energy_consumption_Evaluation\n",
        "    os.system(f\"python -u {run_path} \\\n",
        "      --is_training 1 \\\n",
        "      --data_path {data_path_Energy_consumption_Evaluation} \\\n",
        "      --task_id ETTh2 \\\n",
        "      --model FEDformer \\\n",
        "      --data ETTh2 \\\n",
        "      --features M \\\n",
        "      --seq_len 96 \\\n",
        "      --label_len 48 \\\n",
        "      --pred_len {pre_len} \\\n",
        "      --e_layers 2 \\\n",
        "      --d_layers 1 \\\n",
        "      --factor 3 \\\n",
        "      --enc_in 7 \\\n",
        "      --dec_in 7 \\\n",
        "      --c_out 7 \\\n",
        "      --des 'Exp' \\\n",
        "      --d_model 512 \\\n",
        "      --itr 3 > {directory_path}logs/LongForecasting/FEDformer_ETTh2_{pre_len}.log\")"
      ]
    },
    {
      "cell_type": "markdown",
      "metadata": {
        "id": "Aud-OzdWKFd6"
      },
      "source": [
        "Result:\n",
        "\n",
        "- Energy_consumption_Evaluation__FEDformer_random_modes64_Energy_consumption_Evaluation__ftM_sl96_ll48_pl96_dm512_nh8_el2_dl1_df2048_fc3_ebtimeF_dtTrue_Exp_0  mse:0.9861654043197632, mae:0.7398216724395752\n",
        "\n",
        "- Energy_consumption_Evaluation__FEDformer_random_modes64_Energy_consumption_Evaluation__ftM_sl96_ll48_pl96_dm512_nh8_el2_dl1_df2048_fc3_ebtimeF_dtTrue_Exp_1  mse:0.9846385717391968, mae:0.739626944065094\n",
        "\n",
        "- Energy_consumption_Evaluation__FEDformer_random_modes64_Energy_consumption_Evaluation__ftM_sl96_ll48_pl96_dm512_nh8_el2_dl1_df2048_fc3_ebtimeF_dtTrue_Exp_2  mse:0.98472660779953, mae:0.7393895983695984\n",
        "\n",
        "- Energy_consumption_Evaluation__FEDformer_random_modes64_Energy_consumption_Evaluation__ftM_sl96_ll48_pl192_dm512_nh8_el2_dl1_df2048_fc3_ebtimeF_dtTrue_Exp_0  mse:1.0986617803573608, mae:0.7845818400382996\n",
        "\n",
        "- Energy_consumption_Evaluation__FEDformer_random_modes64_Energy_consumption_Evaluation__ftM_sl96_ll48_pl192_dm512_nh8_el2_dl1_df2048_fc3_ebtimeF_dtTrue_Exp_1  mse:1.0376216173171997, mae:0.7757286429405212\n",
        "\n",
        "- Energy_consumption_Evaluation__FEDformer_random_modes64_Energy_consumption_Evaluation__ftM_sl96_ll48_pl192_dm512_nh8_el2_dl1_df2048_fc3_ebtimeF_dtTrue_Exp_2  mse:1.09434974193573, mae:0.7833144664764404\n",
        "\n",
        "- Energy_consumption_Evaluation__FEDformer_random_modes64_Energy_consumption_Evaluation__ftM_sl96_ll48_pl336_dm512_nh8_el2_dl1_df2048_fc3_ebtimeF_dtTrue_Exp_0  mse:1.1871774196624756, mae:0.8215078115463257\n",
        "\n",
        "- Energy_consumption_Evaluation__FEDformer_random_modes64_Energy_consumption_Evaluation__ftM_sl96_ll48_pl336_dm512_nh8_el2_dl1_df2048_fc3_ebtimeF_dtTrue_Exp_1  mse:1.1420966386795044, mae:0.8118605613708496\n",
        "\n",
        "- Energy_consumption_Evaluation__FEDformer_random_modes64_Energy_consumption_Evaluation__ftM_sl96_ll48_pl336_dm512_nh8_el2_dl1_df2048_fc3_ebtimeF_dtTrue_Exp_2  mse:1.1399441957473755, mae:0.8167647123336792\n",
        "\n",
        "- Energy_consumption_Evaluation__FEDformer_random_modes64_Energy_consumption_Evaluation__ftM_sl96_ll48_pl720_dm512_nh8_el2_dl1_df2048_fc3_ebtimeF_dtTrue_Exp_0  mse:1.1606272459030151, mae:0.8255619406700134\n",
        "\n",
        "- Energy_consumption_Evaluation__FEDformer_random_modes64_Energy_consumption_Evaluation__ftM_sl96_ll48_pl720_dm512_nh8_el2_dl1_df2048_fc3_ebtimeF_dtTrue_Exp_1  mse:1.1739630699157715, mae:0.8305079936981201\n",
        "\n",
        "- Energy_consumption_Evaluation__FEDformer_random_modes64_Energy_consumption_Evaluation__ftM_sl96_ll48_pl720_dm512_nh8_el2_dl1_df2048_fc3_ebtimeF_dtTrue_Exp_2  mse:1.1669038534164429, mae:0.8225077390670776\n",
        "\n"
      ]
    },
    {
      "cell_type": "markdown",
      "source": [
        "### Based on the provided observation, it appears that you are using the Energy_consumption_Evaluation dataset and the FEDformer model. Here are some observations based on the results:\n",
        "\n",
        "\n",
        "- Within the same prediction length (pl), such as pl96 or pl192, there is some variation in the MSE and MAE values across different experiments. This suggests that the model's performance can differ based on the specific experiment.\n",
        "\n",
        "- Comparing different prediction lengths, there is a general trend of increasing MSE and MAE values as the prediction length increases. This indicates that predicting longer sequences is more challenging for the model, similar to the previous observations.\n",
        "\n",
        "- The differences in MSE and MAE values between experiments within the same prediction length are relatively small, indicating that random initialization or other experimental factors may have a limited impact on the model's performance, similar to the previous observations."
      ],
      "metadata": {
        "id": "2GTOSLbpL6bQ"
      }
    }
  ],
  "metadata": {
    "accelerator": "GPU",
    "colab": {
      "gpuType": "T4",
      "provenance": []
    },
    "kernelspec": {
      "display_name": "Python 3 (ipykernel)",
      "language": "python",
      "name": "python3"
    },
    "language_info": {
      "codemirror_mode": {
        "name": "ipython",
        "version": 3
      },
      "file_extension": ".py",
      "mimetype": "text/x-python",
      "name": "python",
      "nbconvert_exporter": "python",
      "pygments_lexer": "ipython3",
      "version": "3.9.16"
    }
  },
  "nbformat": 4,
  "nbformat_minor": 0
}